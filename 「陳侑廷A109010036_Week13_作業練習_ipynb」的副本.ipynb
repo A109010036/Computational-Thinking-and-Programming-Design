{
  "nbformat": 4,
  "nbformat_minor": 0,
  "metadata": {
    "kernelspec": {
      "display_name": "Python 3",
      "language": "python",
      "name": "python3"
    },
    "language_info": {
      "codemirror_mode": {
        "name": "ipython",
        "version": 3
      },
      "file_extension": ".py",
      "mimetype": "text/x-python",
      "name": "python",
      "nbconvert_exporter": "python",
      "pygments_lexer": "ipython3",
      "version": "3.8.5"
    },
    "colab": {
      "name": "「陳侑廷A109010036-Week13-作業練習.ipynb」的副本",
      "provenance": [],
      "include_colab_link": true
    }
  },
  "cells": [
    {
      "cell_type": "markdown",
      "metadata": {
        "id": "view-in-github",
        "colab_type": "text"
      },
      "source": [
        "<a href=\"https://colab.research.google.com/github/A109010036/Computational-Thinking-and-Programming-Design/blob/main/%E3%80%8C%E9%99%B3%E4%BE%91%E5%BB%B7A109010036_Week13_%E4%BD%9C%E6%A5%AD%E7%B7%B4%E7%BF%92_ipynb%E3%80%8D%E7%9A%84%E5%89%AF%E6%9C%AC.ipynb\" target=\"_parent\"><img src=\"https://colab.research.google.com/assets/colab-badge.svg\" alt=\"Open In Colab\"/></a>"
      ]
    },
    {
      "cell_type": "markdown",
      "metadata": {
        "id": "mgFQ8jKXxOHV"
      },
      "source": [
        "**隨堂練習1： BMI 計算**\n",
        "\n",
        "請寫一個程式讓使用者輸入身高與體重，顯示BMI 值與肥胖程度。 BMI 等於體重（KG）除以身高（M）的平方，而BMI 與肥胖分類標準如下：\n",
        "\n",
        "若BMI 值小於18，則顯示「體重過輕」，否則若BMI 值小於24，則顯示「體重正常」，若BMI 值小於27，則顯示「體重過重」，否則顯示「體重肥胖」。"
      ]
    },
    {
      "cell_type": "code",
      "metadata": {
        "id": "50NkZ5EmxOHZ",
        "colab": {
          "base_uri": "https://localhost:8080/",
          "height": 130
        },
        "outputId": "34f6fef0-f175-4046-dd67-df25932a0d9d"
      },
      "source": [
        "a=int(input(\"請輸入體重： \"))\n",
        "b=int(input(\"請輸入身高： \"))\n",
        "if a%b*2 < 18\n",
        " print(\"體重過輕\")\n",
        "elif a%b*2 < 24,  a%b*2 > 18\n",
        " print(\"體重正常\")\n",
        "elif a%b*2 < 27,  a%b*2 > 24\n",
        " print(\"體重過重\")\n",
        "else a%b*2 > 27 \n",
        " print(\"體重肥胖\")"
      ],
      "execution_count": 4,
      "outputs": [
        {
          "output_type": "error",
          "ename": "SyntaxError",
          "evalue": "ignored",
          "traceback": [
            "\u001b[0;36m  File \u001b[0;32m\"<ipython-input-4-47c16f8ed3ed>\"\u001b[0;36m, line \u001b[0;32m3\u001b[0m\n\u001b[0;31m    if a%b*2 < 18\u001b[0m\n\u001b[0m                 ^\u001b[0m\n\u001b[0;31mSyntaxError\u001b[0m\u001b[0;31m:\u001b[0m invalid syntax\n"
          ]
        }
      ]
    },
    {
      "cell_type": "markdown",
      "metadata": {
        "id": "IhE8SgQYxOHa"
      },
      "source": [
        "**隨堂練習2： 三一律(單向選擇、雙向與巢狀選擇、多向選擇)**\n",
        "\n",
        "請輸入一個數，然後判斷這個數是正數、是負數或者是零。"
      ]
    },
    {
      "cell_type": "code",
      "metadata": {
        "id": "KKefo_KpxOHb",
        "colab": {
          "base_uri": "https://localhost:8080/"
        },
        "outputId": "e817dac9-1ed6-43fb-d65f-a37a336b630d"
      },
      "source": [
        "num = int(input(\"輸入一個數字： \"))\n",
        "if num > 0:\n",
        "\tprint(\"是正數\")\n",
        "if num < 0:\n",
        "\tprint(\"是負數\")\n",
        "if num == 0:\n",
        "\tprint(\"數字是0\")\n",
        "\n"
      ],
      "execution_count": 2,
      "outputs": [
        {
          "output_type": "stream",
          "text": [
            "輸入一個數字： 5\n",
            "是正數\n"
          ],
          "name": "stdout"
        }
      ]
    },
    {
      "cell_type": "markdown",
      "metadata": {
        "id": "uQnmzVzFxOHb"
      },
      "source": [
        "**練習5   體溫與發燒**\n",
        "\n",
        "設計程式根據體溫判斷是否發燒，由使用者輸入體溫，程式判斷是否發燒，假設體溫小於36度，顯示「體溫過低」，體溫大於等於36度小於38度，顯示「體溫正常」，否則若體溫大於等於38度小於39度，顯示「體溫有點燒」，否則體溫大於等於39度，顯示「體溫很燒」。\n",
        "\n",
        "輸入體溫「36.5」，輸出為「體溫正常」。\n",
        "\n",
        "～程式執行結果如下。\n",
        "\n",
        "請輸入體溫？36.5\n",
        "\n",
        "體溫正常"
      ]
    },
    {
      "cell_type": "code",
      "metadata": {
        "id": "-pXfo7uwxOHc",
        "colab": {
          "base_uri": "https://localhost:8080/",
          "height": 249
        },
        "outputId": "3c3c63ed-3672-4214-9d70-e0ee949e9acf"
      },
      "source": [
        "num = int(input(\"請輸入體溫： \"))\n",
        "if num <36:\n",
        "\tprint(\"體溫過低\")\n",
        "elif 38>=num>=36 :\n",
        "\tprint(\"體溫有點燒\")\n",
        "else:\n",
        "  print(\"體溫很燒\")\n",
        "  \n",
        " "
      ],
      "execution_count": 5,
      "outputs": [
        {
          "output_type": "stream",
          "text": [
            "請輸入體溫： 36.5\n"
          ],
          "name": "stdout"
        },
        {
          "output_type": "error",
          "ename": "ValueError",
          "evalue": "ignored",
          "traceback": [
            "\u001b[0;31m---------------------------------------------------------------------------\u001b[0m",
            "\u001b[0;31mValueError\u001b[0m                                Traceback (most recent call last)",
            "\u001b[0;32m<ipython-input-5-2e234c4f8eba>\u001b[0m in \u001b[0;36m<module>\u001b[0;34m()\u001b[0m\n\u001b[0;32m----> 1\u001b[0;31m \u001b[0mnum\u001b[0m \u001b[0;34m=\u001b[0m \u001b[0mint\u001b[0m\u001b[0;34m(\u001b[0m\u001b[0minput\u001b[0m\u001b[0;34m(\u001b[0m\u001b[0;34m\"請輸入體溫： \"\u001b[0m\u001b[0;34m)\u001b[0m\u001b[0;34m)\u001b[0m\u001b[0;34m\u001b[0m\u001b[0;34m\u001b[0m\u001b[0m\n\u001b[0m\u001b[1;32m      2\u001b[0m \u001b[0;32mif\u001b[0m \u001b[0mnum\u001b[0m \u001b[0;34m<\u001b[0m\u001b[0;36m36\u001b[0m\u001b[0;34m:\u001b[0m\u001b[0;34m\u001b[0m\u001b[0;34m\u001b[0m\u001b[0m\n\u001b[1;32m      3\u001b[0m         \u001b[0mprint\u001b[0m\u001b[0;34m(\u001b[0m\u001b[0;34m\"體溫過低\"\u001b[0m\u001b[0;34m)\u001b[0m\u001b[0;34m\u001b[0m\u001b[0;34m\u001b[0m\u001b[0m\n\u001b[1;32m      4\u001b[0m \u001b[0;32melif\u001b[0m \u001b[0;36m38\u001b[0m\u001b[0;34m>=\u001b[0m\u001b[0mnum\u001b[0m\u001b[0;34m>=\u001b[0m\u001b[0;36m36\u001b[0m \u001b[0;34m:\u001b[0m\u001b[0;34m\u001b[0m\u001b[0;34m\u001b[0m\u001b[0m\n\u001b[1;32m      5\u001b[0m         \u001b[0mprint\u001b[0m\u001b[0;34m(\u001b[0m\u001b[0;34m\"體溫有點燒\"\u001b[0m\u001b[0;34m)\u001b[0m\u001b[0;34m\u001b[0m\u001b[0;34m\u001b[0m\u001b[0m\n",
            "\u001b[0;31mValueError\u001b[0m: invalid literal for int() with base 10: '36.5'"
          ]
        }
      ]
    },
    {
      "cell_type": "markdown",
      "metadata": {
        "id": "Qbcqjde8xOHc"
      },
      "source": [
        "**練習6  閏年判斷**\n",
        "\n",
        "設計程式允許輸入西元幾年，請求出該年是否是閏年，閏年表示該年多一天，若為4的倍數稱做閏年，但若為100的倍數就不為閏年，且若為400倍數又是閏年。(四年一潤、百年不潤、四百年再潤)\n",
        "\n",
        "輸入年份「2012」，輸出為「2012是閏年」。\n",
        "\n",
        "～程式執行結果如下。\n",
        "\n",
        "請輸入年份？2012\n",
        "\n",
        "2012 是閏年"
      ]
    },
    {
      "cell_type": "code",
      "metadata": {
        "id": "_sMlF9c-xOHd",
        "colab": {
          "base_uri": "https://localhost:8080/"
        },
        "outputId": "8324eaf5-0f92-41fc-9e0c-3fc3e160f5ef"
      },
      "source": [
        "year = int(input(\"請輸入年份\"))\n",
        "if((year%400)==0):\n",
        "  print(year,\"是閏年\")\n",
        "elif((year%100)==0):\n",
        "  print(year,\"不是閏年\")\n",
        "elif((year%4)==0):\n",
        "  print(year,\"是閏年\")\n",
        "else:\n",
        "  print(year,\"不是閏年\")"
      ],
      "execution_count": 2,
      "outputs": [
        {
          "output_type": "stream",
          "text": [
            "請輸入年份2012\n",
            "2012 是閏年\n"
          ],
          "name": "stdout"
        }
      ]
    },
    {
      "cell_type": "markdown",
      "metadata": {
        "id": "X15-lecLxOHd"
      },
      "source": [
        "**練習12：計程車計費**\n",
        "\n",
        "某城市計程車計費3公里以內6元，超過3公里不足10公里、每公里1.8元，超過10公里則超過部分加收50%。此外停車等候每3分鐘收1元，請用Python寫出車費是多少。"
      ]
    },
    {
      "cell_type": "code",
      "metadata": {
        "id": "Zfg6mP8bxOHe"
      },
      "source": [
        ""
      ],
      "execution_count": null,
      "outputs": []
    },
    {
      "cell_type": "code",
      "metadata": {
        "id": "G1QlwqRrxOHe"
      },
      "source": [
        ""
      ],
      "execution_count": null,
      "outputs": []
    }
  ]
}