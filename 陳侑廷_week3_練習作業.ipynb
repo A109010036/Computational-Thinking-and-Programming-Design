{
  "nbformat": 4,
  "nbformat_minor": 0,
  "metadata": {
    "colab": {
      "name": "陳侑廷-week3-練習作業.ipynb",
      "provenance": [],
      "authorship_tag": "ABX9TyO0s4oj0/qtWdyOr05vJHDN",
      "include_colab_link": true
    },
    "kernelspec": {
      "name": "python3",
      "display_name": "Python 3"
    }
  },
  "cells": [
    {
      "cell_type": "markdown",
      "metadata": {
        "id": "view-in-github",
        "colab_type": "text"
      },
      "source": [
        "<a href=\"https://colab.research.google.com/github/A109010036/Computational-Thinking-and-Programming-Design/blob/main/%E9%99%B3%E4%BE%91%E5%BB%B7_week3_%E7%B7%B4%E7%BF%92%E4%BD%9C%E6%A5%AD.ipynb\" target=\"_parent\"><img src=\"https://colab.research.google.com/assets/colab-badge.svg\" alt=\"Open In Colab\"/></a>"
      ]
    },
    {
      "cell_type": "markdown",
      "metadata": {
        "id": "2yArq_F6NtuJ"
      },
      "source": [
        "#隨堂練習"
      ]
    },
    {
      "cell_type": "markdown",
      "metadata": {
        "id": "xxPQwqAtOUho"
      },
      "source": [
        "認識電腦"
      ]
    },
    {
      "cell_type": "markdown",
      "metadata": {
        "id": "zD2jhJRjOtdo"
      },
      "source": [
        "#課後練習"
      ]
    },
    {
      "cell_type": "code",
      "metadata": {
        "id": "S0L5GIqcO00H"
      },
      "source": [
        ""
      ],
      "execution_count": null,
      "outputs": []
    },
    {
      "cell_type": "markdown",
      "metadata": {
        "id": "R3A0pL8jPRkI"
      },
      "source": [
        "課後練習則為從一則新聞報導，提出你對新聞系學生為什麼要學「運算思維與程式設計」的見解。（告訴我新聞連結，以及你的觀點即可。）"
      ]
    },
    {
      "cell_type": "markdown",
      "metadata": {
        "id": "fPM-YNnySnMF"
      },
      "source": [
        "https://www.twreporter.org/a/opinion-data-journalist\r\n"
      ]
    },
    {
      "cell_type": "markdown",
      "metadata": {
        "id": "siX5BABMSsC8"
      },
      "source": [
        "記者自己會運用程式設計，就不需要等待工程師給資料，自己就可以得到很多資料，選舉時也能拿到更多資料，報導中有數據，就更精確也更有說服力。"
      ]
    },
    {
      "cell_type": "code",
      "metadata": {
        "id": "gwLNnzJWTl35"
      },
      "source": [
        ""
      ],
      "execution_count": null,
      "outputs": []
    }
  ]
}