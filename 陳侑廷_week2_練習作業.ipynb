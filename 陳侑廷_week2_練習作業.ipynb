{
  "nbformat": 4,
  "nbformat_minor": 0,
  "metadata": {
    "colab": {
      "name": "陳侑廷-week2-練習作業.ipynb",
      "provenance": [],
      "authorship_tag": "ABX9TyNsioaODGQe1Uu9VmRbCP13",
      "include_colab_link": true
    },
    "kernelspec": {
      "name": "python3",
      "display_name": "Python 3"
    }
  },
  "cells": [
    {
      "cell_type": "markdown",
      "metadata": {
        "id": "view-in-github",
        "colab_type": "text"
      },
      "source": [
        "<a href=\"https://colab.research.google.com/github/A109010036/Computational-Thinking-and-Programming-Design/blob/main/%E9%99%B3%E4%BE%91%E5%BB%B7_week2_%E7%B7%B4%E7%BF%92%E4%BD%9C%E6%A5%AD.ipynb\" target=\"_parent\"><img src=\"https://colab.research.google.com/assets/colab-badge.svg\" alt=\"Open In Colab\"/></a>"
      ]
    },
    {
      "cell_type": "code",
      "metadata": {
        "colab": {
          "base_uri": "https://localhost:8080/"
        },
        "id": "urdPhKqhS9E3",
        "outputId": "bf351e14-7406-472c-b67e-12cab4d3b957"
      },
      "source": [
        "print(1+1) "
      ],
      "execution_count": 1,
      "outputs": [
        {
          "output_type": "stream",
          "text": [
            "2\n"
          ],
          "name": "stdout"
        }
      ]
    },
    {
      "cell_type": "code",
      "metadata": {
        "colab": {
          "base_uri": "https://localhost:8080/"
        },
        "id": "X4oFlk0TUDKp",
        "outputId": "eaa5f1f2-8ffa-4168-8ba3-fc7fc0902745"
      },
      "source": [
        "print(\"Hello World\")"
      ],
      "execution_count": 2,
      "outputs": [
        {
          "output_type": "stream",
          "text": [
            "Hello World\n"
          ],
          "name": "stdout"
        }
      ]
    },
    {
      "cell_type": "code",
      "metadata": {
        "id": "l-TCO-VtUY9A"
      },
      "source": [
        ""
      ],
      "execution_count": null,
      "outputs": []
    },
    {
      "cell_type": "markdown",
      "metadata": {
        "id": "sCD242iRYciU"
      },
      "source": [
        "Google Colab 操作步驟\r\n",
        "\r\n",
        "Step1:\r\n",
        "\r\n",
        "Step2:\r\n",
        "\r\n",
        "Step3:"
      ]
    },
    {
      "cell_type": "markdown",
      "metadata": {
        "id": "0j4RoWVZZJ5c"
      },
      "source": [
        "回家練習"
      ]
    },
    {
      "cell_type": "code",
      "metadata": {
        "id": "9EFkoDFUZOUr"
      },
      "source": [
        ""
      ],
      "execution_count": null,
      "outputs": []
    },
    {
      "cell_type": "code",
      "metadata": {
        "id": "OMIb_moyZWBU"
      },
      "source": [
        ""
      ],
      "execution_count": null,
      "outputs": []
    }
  ]
}