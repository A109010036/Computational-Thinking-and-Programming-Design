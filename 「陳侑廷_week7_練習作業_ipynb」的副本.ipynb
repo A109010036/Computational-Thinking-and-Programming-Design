{
  "nbformat": 4,
  "nbformat_minor": 0,
  "metadata": {
    "colab": {
      "name": "「陳侑廷-week7-練習作業.ipynb」的副本",
      "provenance": [],
      "authorship_tag": "ABX9TyMFmR99QfXzG+atL7r5N82T",
      "include_colab_link": true
    },
    "kernelspec": {
      "name": "python3",
      "display_name": "Python 3"
    },
    "language_info": {
      "name": "python"
    }
  },
  "cells": [
    {
      "cell_type": "markdown",
      "metadata": {
        "id": "view-in-github",
        "colab_type": "text"
      },
      "source": [
        "<a href=\"https://colab.research.google.com/github/A109010036/Computational-Thinking-and-Programming-Design/blob/main/%E3%80%8C%E9%99%B3%E4%BE%91%E5%BB%B7_week7_%E7%B7%B4%E7%BF%92%E4%BD%9C%E6%A5%AD_ipynb%E3%80%8D%E7%9A%84%E5%89%AF%E6%9C%AC.ipynb\" target=\"_parent\"><img src=\"https://colab.research.google.com/assets/colab-badge.svg\" alt=\"Open In Colab\"/></a>"
      ]
    },
    {
      "cell_type": "code",
      "metadata": {
        "colab": {
          "base_uri": "https://localhost:8080/"
        },
        "id": "9c-fQwYSp8R6",
        "outputId": "4ec45e6d-ce7b-4b53-e817-6d92fa910c8b"
      },
      "source": [
        "In [1]: name = input('請問貴姓大名？')\n",
        "...: print('你好，', name)\n",
        "...:\n",
        "...: age = int(input('請問年紀？'))\n",
        "...: print('原來你', age ,'歲')\n",
        "...:\n",
        "...: weight = float(input('請問體重？'))\n",
        "...: print('體重為', weight)"
      ],
      "execution_count": null,
      "outputs": [
        {
          "output_type": "stream",
          "text": [
            "請問貴姓大名？angelina\n",
            "你好， angelina\n",
            "請問年紀？18\n",
            "原來你 18 歲\n",
            "請問體重？42\n",
            "體重為 42.0\n"
          ],
          "name": "stdout"
        }
      ]
    },
    {
      "cell_type": "code",
      "metadata": {
        "colab": {
          "base_uri": "https://localhost:8080/"
        },
        "id": "B8TihOsrql0R",
        "outputId": "102b1b40-5123-48ae-89aa-2454344b38e4"
      },
      "source": [
        "In [1]: ## 給我半徑、用公式計算圓面積與周長\n",
        "...: ## Input\n",
        "...: radius = float(input('請輸入半徑？'))\n",
        "...: PI = 3.14159\n",
        "...: ## Process\n",
        "...: circumference = 2 * PI * radius\n",
        "...: area = radius * radius * PI\n",
        "...: ## Output\n",
        "...: print(f'圓周長為 {circumference}， 圓面積為 {area}。')"
      ],
      "execution_count": null,
      "outputs": [
        {
          "output_type": "stream",
          "text": [
            "請輸入半徑？10\n",
            "圓周長為 62.8318， 圓面積為 314.159。\n"
          ],
          "name": "stdout"
        }
      ]
    },
    {
      "cell_type": "code",
      "metadata": {
        "colab": {
          "base_uri": "https://localhost:8080/"
        },
        "id": "WLZ_lN_CrT-6",
        "outputId": "292a61c5-6459-4132-eb8a-7c0929e767d8"
      },
      "source": [
        "In [1]: ## Input\n",
        "...: c = float(input('請輸入攝氏溫度？'))\n",
        "...:\n",
        "...: ## Process\n",
        "...: f = c * 9/5 + 32\n",
        "...:\n",
        "...: ## Output\n",
        "...: print('華氏溫度為', f)\n"
      ],
      "execution_count": null,
      "outputs": [
        {
          "output_type": "stream",
          "text": [
            "請輸入攝氏溫度？30\n",
            "華氏溫度為 86.0\n"
          ],
          "name": "stdout"
        }
      ]
    },
    {
      "cell_type": "code",
      "metadata": {
        "colab": {
          "base_uri": "https://localhost:8080/"
        },
        "id": "sW-5mUU4rfWq",
        "outputId": "cabe13af-2825-4ad7-e4ac-70ee45e9cc9a"
      },
      "source": [
        "In [1]: ## Total = P1*Q1 + P2*Q2 + P3*Q3\n",
        "...: ## Input Data\n",
        "...: cloth = int(input('請輸入上衣數量？'))\n",
        "...: trousers = int(input('請輸入褲子數量？'))\n",
        "...: vest = int(input('請輸入背心數量？'))\n",
        "...: ## Process\n",
        "...: total = cloth*300 + trousers*350 + vest*400\n",
        "...: ## Output\n",
        "...: print('訂購服裝的總金額為', total)"
      ],
      "execution_count": null,
      "outputs": [
        {
          "output_type": "stream",
          "text": [
            "請輸入上衣數量？10\n",
            "請輸入褲子數量？8\n",
            "請輸入背心數量？5\n",
            "訂購服裝的總金額為 7800\n"
          ],
          "name": "stdout"
        }
      ]
    },
    {
      "cell_type": "code",
      "metadata": {
        "id": "IK00JAVvrrl6"
      },
      "source": [
        ""
      ],
      "execution_count": null,
      "outputs": []
    }
  ]
}